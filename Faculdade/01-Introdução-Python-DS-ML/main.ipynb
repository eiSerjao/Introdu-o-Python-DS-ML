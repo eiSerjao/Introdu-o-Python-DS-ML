{
 "cells": [
  {
   "cell_type": "code",
   "execution_count": 17,
   "id": "3be21d72",
   "metadata": {},
   "outputs": [
    {
     "name": "stdout",
     "output_type": "stream",
     "text": [
      "ola mundo\n"
     ]
    }
   ],
   "source": [
    "print(\"ola mundo\")"
   ]
  },
  {
   "cell_type": "code",
   "execution_count": 2,
   "id": "bf4a5465",
   "metadata": {},
   "outputs": [
    {
     "name": "stdout",
     "output_type": "stream",
     "text": [
      "Ambiente configurado e bibliotecas importadas!\n"
     ]
    }
   ],
   "source": [
    "# Importando bibliotecas essenciais\n",
    "import numpy as np                  # Trabalhar com arrays e operações matemáticas\n",
    "import pandas as pd                # Manipulação de dados com DataFrames\n",
    "import seaborn as sns              # Gráficos estatísticos e bonitos\n",
    "\n",
    "# Configurando o ambiente para exibição de gráficos no Jupyter Notebook\n",
    "\n",
    "sns.set(style='whitegrid')        # Define um estilo limpo para os gráficos\n",
    "pd.set_option('display.max_columns', None)  # Exibe todas as colunas de DataFrames\n",
    "\n",
    "print(\"Ambiente configurado e bibliotecas importadas!\")"
   ]
  },
  {
   "cell_type": "code",
   "execution_count": 3,
   "id": "922d0edb",
   "metadata": {},
   "outputs": [
    {
     "name": "stdout",
     "output_type": "stream",
     "text": [
      "Ambiente configurado e bibliotecas importadas!\n"
     ]
    }
   ],
   "source": [
    "# Importando bibliotecas adicionais para visualização e manipulação de dados\n",
    "import matplotlib.pyplot as plt    \n",
    "\n",
    "# Configurando o matplotlib para exibir gráficos inline no Jupyter Notebook\n",
    "%matplotlib inline                \n",
    "\n",
    "\n",
    "print(\"Ambiente configurado e bibliotecas importadas!\")"
   ]
  },
  {
   "cell_type": "code",
   "execution_count": 4,
   "id": "dd037890",
   "metadata": {},
   "outputs": [
    {
     "name": "stdout",
     "output_type": "stream",
     "text": [
      "Array unidimensional: [10 20 30 40 50]\n",
      "Tipo do array: <class 'numpy.ndarray'>\n"
     ]
    }
   ],
   "source": [
    "import numpy as np\n",
    "\n",
    "#Criar um array numpy unidimensional\n",
    "lista = [10, 20, 30, 40, 50]\n",
    "array = np.array(lista) # Converte a lista em um array numpy através da função np.array()\n",
    "\n",
    "# Pode ser criado de forma direta\n",
    "arrayOutro = np.array([10, 20, 30, 40, 50])\n",
    "\n",
    "print(\"Array unidimensional:\", array)\n",
    "print(\"Tipo do array:\", type(array))"
   ]
  },
  {
   "cell_type": "code",
   "execution_count": 5,
   "id": "1c34a616",
   "metadata": {},
   "outputs": [
    {
     "name": "stdout",
     "output_type": "stream",
     "text": [
      "Array: [10 20 30 40 50]\n",
      "Soma de todos os elementos: 150\n",
      "Média dos elementos: 30.0\n",
      "Array multiplicado por 2: [ 20  40  60  80 100]\n",
      "Array multiplicado por 2 com função: [ 20  40  60  80 100]\n"
     ]
    }
   ],
   "source": [
    "# Exemplos de Operações com arrays numpy\n",
    "# Utilizando a lista do tipo numpy no bloco acima \"array\"\n",
    "\n",
    "# Exibindo Array numpy\n",
    "print(\"Array:\", array) # Exibe o array numpy\n",
    "\n",
    "# Soma de todos os elementos do array\n",
    "print(\"Soma de todos os elementos:\", np.sum(array)) # função sum do numpy é que soma todos os elementos do array\n",
    "\n",
    "# Fazendo a media dos elementos do array\n",
    "print(\"Média dos elementos:\", np.mean(array)) # função mean do numpy é que calcula a media dos elementos do array\n",
    "\n",
    "# Multiplicando todos os elementos do array por 2\n",
    "\n",
    "print(\"Array multiplicado por 2:\", array * 2) # Multiplicando todos os elementos do array por 2\n",
    "\n",
    "# Tambem pode-se fazer a multiplicação com a função do numpy\n",
    "print(\"Array multiplicado por 2 com função:\", np.multiply(array, 2)) # Função multiply do numpy é que multiplica todos os elementos do array por 2 (ListaDoTipoNumpy * numero de desejado)\n",
    "\n"
   ]
  },
  {
   "cell_type": "code",
   "execution_count": 6,
   "id": "c76acd35",
   "metadata": {},
   "outputs": [
    {
     "name": "stdout",
     "output_type": "stream",
     "text": [
      "Matriz:\n",
      " [[1 2 3]\n",
      " [4 5 6]]\n"
     ]
    }
   ],
   "source": [
    "# Criando uma array bidimensional (matriz)\n",
    "matriz = np.array([\n",
    "    [1, 2, 3],\n",
    "    [4, 5, 6]\n",
    "])\n",
    "\n",
    "print(\"Matriz:\\n\", matriz) # Exibe a matriz numpy"
   ]
  },
  {
   "cell_type": "code",
   "execution_count": 10,
   "id": "33feb6b9",
   "metadata": {},
   "outputs": [
    {
     "name": "stdout",
     "output_type": "stream",
     "text": [
      "Array:\n",
      "[[1 2 3]\n",
      " [4 5 6]]\n",
      "Elemento na linha 1, coluna 2: 6\n",
      "Primeira linha: [1 2 3]\n"
     ]
    }
   ],
   "source": [
    "# Acessar arrays utilizando a indexação e slicing\n",
    "\n",
    "# Utilizando o array bidimensional (matriz) do bloco acima\n",
    "\n",
    "# Exibindo o array numpy bidimensional\n",
    "print(\"Array:\")\n",
    "print(matriz) # Exibe o array numpy bidimensional\n",
    "\n",
    "# Indexação: acessando elementos da linha 1 e coluna 2\n",
    "print(\"Elemento na linha 1, coluna 2:\", matriz[1, 2]) # Acessa o elemento na linha 1 e coluna 2 da matriz numpy\n",
    "\n",
    "# Slicing: acessando a primeira linha da matriz\n",
    "print(\"Primeira linha:\", matriz[0, 0:3]) # Acessa a primeira linha da matriz numpy (linha 0) e todas as colunas (0:3)"
   ]
  },
  {
   "cell_type": "code",
   "execution_count": 17,
   "id": "697ee3de",
   "metadata": {},
   "outputs": [
    {
     "name": "stdout",
     "output_type": "stream",
     "text": [
      "\n",
      "Resultado do broadcasting (matriz + vetor):\n",
      "[[11 22 33]\n",
      " [14 25 36]]\n"
     ]
    }
   ],
   "source": [
    "#Exemplo de broadcasting com numpy\n",
    "\n",
    "# Essa aplicação é utilizada para operações entre arrays de diferentes dimensões\n",
    "\n",
    "# Criando um vetor\n",
    "vetor = np.array([10, 20, 30])\n",
    "\n",
    "# Somando o vetor a cada linha da matriz\n",
    "resultado = matriz + vetor\n",
    "\n",
    "print(\"\\nResultado do broadcasting (matriz + vetor):\")\n",
    "print(resultado)"
   ]
  }
 ],
 "metadata": {
  "kernelspec": {
   "display_name": "Python 3",
   "language": "python",
   "name": "python3"
  },
  "language_info": {
   "codemirror_mode": {
    "name": "ipython",
    "version": 3
   },
   "file_extension": ".py",
   "mimetype": "text/x-python",
   "name": "python",
   "nbconvert_exporter": "python",
   "pygments_lexer": "ipython3",
   "version": "3.12.10"
  }
 },
 "nbformat": 4,
 "nbformat_minor": 5
}
